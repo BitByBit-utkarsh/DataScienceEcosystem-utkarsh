{
 "cells": [
  {
   "cell_type": "markdown",
   "id": "0d153325-65dc-4cc0-a9e1-faf61a764c70",
   "metadata": {},
   "source": [
    "# Data Science Tools and Ecosystem"
   ]
  },
  {
   "cell_type": "markdown",
   "id": "84ed469c-50f7-4a92-baef-df6a47a33711",
   "metadata": {},
   "source": [
    "In this notebook, Data Science Tools and Ecosystem are summarized.\n"
   ]
  },
  {
   "cell_type": "markdown",
   "id": "b5c28ed9-10fe-4371-9f15-6742358180a3",
   "metadata": {},
   "source": [
    "Some of the popular languages that Data Scientists use are:\n",
    "\n",
    "1. Python\n",
    "2. R\n",
    "3. SQL\n"
   ]
  },
  {
   "cell_type": "markdown",
   "id": "a002d892-e710-4c10-8b92-5076e0fa2ded",
   "metadata": {},
   "source": [
    "Some of the commonly used libraries used by Data Scientists include:\n",
    "\n",
    "1. NumPy\n",
    "2. Pandas\n",
    "3. scikit-learn\n"
   ]
  },
  {
   "cell_type": "markdown",
   "id": "60f1fc0b-3f05-4143-86ef-8923248df7d4",
   "metadata": {},
   "source": [
    "| Data Science Tools |\n",
    "|--------------------|\n",
    "| Jupyter Notebook   |\n",
    "| VS Code            |\n",
    "| RStudio            |\n"
   ]
  },
  {
   "cell_type": "code",
   "execution_count": 2,
   "id": "4c034031-a2a9-4d73-99f2-e1f078ca22d9",
   "metadata": {},
   "outputs": [
    {
     "name": "stdout",
     "output_type": "stream",
     "text": [
      "17\n"
     ]
    }
   ],
   "source": [
    "\n",
    "result = (3 * 4) + 5\n",
    "print(result)\n"
   ]
  },
  {
   "cell_type": "code",
   "execution_count": 3,
   "id": "24174e9a-628c-45c6-b5a6-9518c4f0d267",
   "metadata": {},
   "outputs": [
    {
     "name": "stdout",
     "output_type": "stream",
     "text": [
      "3.3333333333333335\n",
      "3 hours and 20 minutes\n"
     ]
    }
   ],
   "source": [
    "\n",
    "minutes = 200\n",
    "hours_decimal = minutes / 60\n",
    "hours_int = minutes // 60\n",
    "remaining_minutes = minutes % 60\n",
    "\n",
    "print(hours_decimal)                    \n",
    "print(f\"{hours_int} hours and {remaining_minutes} minutes\")  \n"
   ]
  },
  {
   "cell_type": "markdown",
   "id": "6c1b3db3-e2e8-4e37-ab5e-9e65ca079370",
   "metadata": {},
   "source": [
    "**Objectives:**\n",
    "\n",
    "- List popular languages for Data Science.\n",
    "- List commonly used libraries in Data Science.\n",
    "- Show a simple arithmetic computation in Python.\n",
    "- Convert minutes into hours using Python.\n",
    "- Save and upload the notebook to GitHub.\n"
   ]
  },
  {
   "cell_type": "markdown",
   "id": "a4a8a4e1-e913-46da-951f-3dbfd5c5db32",
   "metadata": {},
   "source": [
    "## Author\n",
    "\n",
    "Utkarsh\n"
   ]
  },
  {
   "cell_type": "code",
   "execution_count": null,
   "id": "f8134151-83a5-4a08-a0fc-88789505e452",
   "metadata": {},
   "outputs": [],
   "source": []
  }
 ],
 "metadata": {
  "kernelspec": {
   "display_name": "Python 3 (ipykernel)",
   "language": "python",
   "name": "python3"
  },
  "language_info": {
   "codemirror_mode": {
    "name": "ipython",
    "version": 3
   },
   "file_extension": ".py",
   "mimetype": "text/x-python",
   "name": "python",
   "nbconvert_exporter": "python",
   "pygments_lexer": "ipython3",
   "version": "3.13.5"
  }
 },
 "nbformat": 4,
 "nbformat_minor": 5
}
